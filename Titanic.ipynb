# Base Packages
import pandas as pd
import numpy as np
import seaborn as sns
import matplotlib.pyplot as plt

# ML Packages
from sklearn.preprocessing import StandardScaler
from sklearn.linear_model import LogisticRegression
from sklearn.tree import DecisionTreeClassifier
from sklearn.ensemble import RandomForestClassifier
from sklearn.model_selection import cross_val_score, GridSearchCV

# Load data
train = pd.read_csv('train.csv')

# Transform
def prep(df):
    df = df.drop(labels=['Name', 'Ticket', 'Cabin'], axis=1)
    df.Pclass = df.Pclass.astype('category')
    df.Sex = df.Sex.astype('category')
    df.Age = df.Age.fillna(value=np.mean(df.Age))
    df.SibSp = df.SibSp.astype('category')
    df.Parch = df.Parch.astype('category')
    df.Embarked = df.Embarked.fillna('S').astype('category')
    df.Fare = df.Fare.fillna(value=np.mean(df.Age))
    scaler = StandardScaler()
    df[['Fare', 'Age']] = scaler.fit_transform(df[['Fare', 'Age']])
    df.Sex = pd.get_dummies(df.Sex, drop_first=True)
    df = pd.get_dummies(df)
    return df

train = prep(train)

# Quick view
a4_dims = (11.7, 8.27)
sns.set(style="whitegrid")

fig, ax = plt.subplots(figsize=a4_dims)
sns.heatmap(train.corr(), annot=True)


# Test models
y = train.Survived
X = train[predictor]

models = []
models.append(('Logistic regression', LogisticRegression(max_iter=500)))
models.append(('Decision Tree', DecisionTreeClassifier()))
models.append(('Random Forest', RandomForestClassifier()))

results = []

for name, model in models:
    result = cross_val_score(model, X, y, cv=3)
    results.append('{} model with score: {}'.format(name, result))
    
for res in results:
    print(res)


# Hyperparameter tuning
rdf = RandomForestClassifier(random_state=0)

n_estimators = [10, 50, 100, 500]
max_depth = [5, 10, 50, 100]
hyperparameters = dict(n_estimators=n_estimators, max_depth=max_depth)

clf = GridSearchCV(rdf, hyperparameters, cv=3)
best_rdf = clf.fit(X, y)
print("Best parameter:{}".format(best_rdf.best_params_))


# Train & Export
rdf = RandomForestClassifier(max_depth=5, n_estimators=50, random_state=0)
rdf.fit(X, y)

test = pd.read_csv('test.csv')
test = prep(test)
S = rdf.predict(test[predictor])
output = pd.DataFrame({'Survived':S}, index=test['PassengerId'])

output.to_csv('submission.csv')